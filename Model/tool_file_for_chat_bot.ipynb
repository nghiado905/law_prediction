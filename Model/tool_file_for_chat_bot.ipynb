{
 "cells": [
  {
   "cell_type": "code",
   "execution_count": 59,
   "metadata": {},
   "outputs": [],
   "source": [
    "import os\n",
    "import re\n",
    "\n",
    "def clean_text(text):\n",
    "    # Loại bỏ các ký tự đặc biệt như ô trống hoặc các ký tự không mong muốn\n",
    "    return re.sub(r'[\\x00-\\x1F\\x7F]', '', text).strip()\n",
    "\n",
    "def split_txt_into_chunks(text, chunk_size=1024):\n",
    "    # Tách văn bản thành các đoạn nhỏ hơn với kích thước không vượt quá chunk_size\n",
    "    chunks = []\n",
    "    while len(text) > chunk_size:\n",
    "        # Tìm điểm chia tách gần nhất, ưu tiên chia tại dấu phân cách 'Điều'\n",
    "        split_point = max(text.rfind('Điều', 0, chunk_size), text.rfind(' ', 0, chunk_size))\n",
    "        if split_point == -1:\n",
    "            split_point = chunk_size\n",
    "        chunks.append(text[:split_point].strip())\n",
    "        text = text[split_point:].strip()\n",
    "    chunks.append(text)\n",
    "    return chunks\n",
    "\n",
    "def split_txt_by_rules_with_header(input_file, output_folder):\n",
    "    # Tạo thư mục đích nếu chưa tồn tại\n",
    "    os.makedirs(output_folder, exist_ok=True)\n",
    "    \n",
    "    # Đọc toàn bộ nội dung của file .txt\n",
    "    with open(input_file, 'r', encoding='utf-8') as file:\n",
    "        full_text = [clean_text(line) for line in file.readlines() if clean_text(line) != '']\n",
    "    \n",
    "    # Lấy thông tin về \"Luật số\", \"Ngày ban hành\", và \"Tên bộ luật\"\n",
    "    law_number = \"\"\n",
    "    date_info = \"\"\n",
    "    law_title = \"\"\n",
    "    \n",
    "    for paragraph in full_text:\n",
    "        if \"Luật số\" in paragraph:\n",
    "            law_number = paragraph\n",
    "        elif \"ngày\" in paragraph and \"tháng\" in paragraph and \"năm\" in paragraph:\n",
    "            date_info = paragraph\n",
    "        elif paragraph.isupper():  # Giả định rằng tiêu đề luật là viết hoa toàn bộ\n",
    "            law_title = paragraph\n",
    "            break\n",
    "    \n",
    "    # Tách văn bản thành các đoạn theo từ khóa \"Điều\"\n",
    "    dieu_sections = []\n",
    "    current_section = []\n",
    "    current_condition = \"\"\n",
    "    \n",
    "    for paragraph in full_text:\n",
    "        if paragraph.startswith(\"Điều\"):\n",
    "            if current_section:\n",
    "                dieu_sections.append((current_condition, \"\\n\".join(current_section)))\n",
    "                current_section = []\n",
    "            current_condition = paragraph\n",
    "        current_section.append(paragraph)\n",
    "    if current_section:\n",
    "        dieu_sections.append((current_condition, \"\\n\".join(current_section)))\n",
    "    \n",
    "    # Xử lý và ghi từng phần vào các file riêng biệt với thông tin bổ sung\n",
    "    file_count = 0\n",
    "    for i, (condition, section_text) in enumerate(dieu_sections):\n",
    "        # Nếu nội dung không vượt quá kích thước tối đa, không cần chia nhỏ\n",
    "        if len(section_text) <= 1024:\n",
    "            output_file = os.path.join(output_folder, f\"Dieu_{i+1}.txt\")\n",
    "            with open(output_file, 'w', encoding='utf-8') as file:\n",
    "                # Thêm thông tin vào đầu file\n",
    "                file.write(f\"{law_number}\\n\")\n",
    "                file.write(f\"{date_info}\\n\\n\")\n",
    "                file.write(f\"{law_title}\\n\\n\")\n",
    "                # Thêm phần nội dung của Điều\n",
    "                file.write(section_text)\n",
    "            file_count += 1\n",
    "        else:\n",
    "            # Nếu nội dung vượt quá kích thước tối đa, chia nhỏ và ghi vào nhiều file\n",
    "            chunks = split_txt_into_chunks(section_text, chunk_size=1024)\n",
    "            for j, chunk in enumerate(chunks):\n",
    "                output_file = os.path.join(output_folder, f\"Dieu_{i+1}_{j+1}.txt\")\n",
    "                with open(output_file, 'w', encoding='utf-8') as file:\n",
    "                    # Thêm thông tin vào đầu file\n",
    "                    if j > 0:  # Chỉ bổ sung thông tin \"Điều\" vào file thứ 2 trở đi\n",
    "                        file.write(f\"{law_number}\\n\")\n",
    "                        file.write(f\"{date_info}\\n\\n\")\n",
    "                        file.write(f\"{law_title}\\n\\n\")\n",
    "                        file.write(f\"{condition}\\n\")\n",
    "                    # Thêm phần nội dung của Điều\n",
    "                    file.write(chunk)\n",
    "                \n",
    "                file_count += 1\n",
    "    \n",
    "    print(f\"Đã tách file {input_file} thành {file_count} phần trong thư mục {output_folder}.\")\n",
    "\n"
   ]
  },
  {
   "cell_type": "markdown",
   "metadata": {},
   "source": [
    "TÁCH THEO PDF"
   ]
  },
  {
   "cell_type": "code",
   "execution_count": 61,
   "metadata": {},
   "outputs": [],
   "source": [
    "import os\n",
    "import re\n",
    "import fitz  # PyMuPDF\n",
    "\n",
    "def clean_text(text):\n",
    "    # Loại bỏ các ký tự đặc biệt như ô trống hoặc các ký tự không mong muốn\n",
    "    return re.sub(r'[\\x00-\\x1F\\x7F]', '', text).strip()\n",
    "\n",
    "def split_text_into_chunks(text, chunk_size=1024):\n",
    "    # Tách văn bản thành các đoạn nhỏ hơn với kích thước không vượt quá chunk_size\n",
    "    chunks = []\n",
    "    while len(text) > chunk_size:\n",
    "        # Tìm điểm chia tách gần nhất, ưu tiên chia tại dấu phân cách 'Điều'\n",
    "        split_point = max(text.rfind('Điều', 0, chunk_size), text.rfind(' ', 0, chunk_size))\n",
    "        if split_point == -1:\n",
    "            split_point = chunk_size\n",
    "        chunks.append(text[:split_point].strip())\n",
    "        text = text[split_point:].strip()\n",
    "    chunks.append(text)\n",
    "    return chunks\n",
    "\n",
    "def split_pdf_by_rules_with_header(input_file, output_folder):\n",
    "    # Tạo thư mục đích nếu chưa tồn tại\n",
    "    os.makedirs(output_folder, exist_ok=True)\n",
    "    \n",
    "    # Mở file PDF\n",
    "    doc = fitz.open(input_file)\n",
    "    \n",
    "    # Đọc toàn bộ nội dung của file PDF\n",
    "    full_text = []\n",
    "    for page_num in range(len(doc)):\n",
    "        page = doc.load_page(page_num)\n",
    "        text = page.get_text()\n",
    "        if text:\n",
    "            full_text.extend([clean_text(line) for line in text.split('\\n') if clean_text(line) != ''])\n",
    "    \n",
    "    # Đóng file PDF\n",
    "    doc.close()\n",
    "    \n",
    "    # Lấy thông tin về \"Luật số\", \"Ngày ban hành\", và \"Tên bộ luật\"\n",
    "    law_number = \"\"\n",
    "    date_info = \"\"\n",
    "    law_title = \"\"\n",
    "    \n",
    "    for paragraph in full_text:\n",
    "        if \"Luật số\" in paragraph:\n",
    "            law_number = paragraph\n",
    "        elif \"ngày\" in paragraph and \"tháng\" in paragraph and \"năm\" in paragraph:\n",
    "            date_info = paragraph\n",
    "        elif paragraph.isupper():  # Giả định rằng tiêu đề luật là viết hoa toàn bộ\n",
    "            law_title = paragraph\n",
    "            break\n",
    "    \n",
    "    # Tách văn bản thành các đoạn theo từ khóa \"Điều\"\n",
    "    dieu_sections = []\n",
    "    current_section = []\n",
    "    current_condition = \"\"\n",
    "    \n",
    "    for paragraph in full_text:\n",
    "        if paragraph.startswith(\"Điều\"):\n",
    "            if current_section:\n",
    "                dieu_sections.append((current_condition, \"\\n\".join(current_section)))\n",
    "                current_section = []\n",
    "            current_condition = paragraph\n",
    "        current_section.append(paragraph)\n",
    "    if current_section:\n",
    "        dieu_sections.append((current_condition, \"\\n\".join(current_section)))\n",
    "    \n",
    "    # Xử lý và ghi từng phần vào các file riêng biệt với thông tin bổ sung\n",
    "    file_count = 0\n",
    "    for i, (condition, section_text) in enumerate(dieu_sections):\n",
    "        # Nếu nội dung không vượt quá kích thước tối đa, không cần chia nhỏ\n",
    "        if len(section_text) <= 1024:\n",
    "            output_file = os.path.join(output_folder, f\"Dieu_{i+1}.txt\")\n",
    "            with open(output_file, 'w', encoding='utf-8') as file:\n",
    "                # Thêm thông tin vào đầu file\n",
    "                file.write(f\"{law_number}\\n\")\n",
    "                file.write(f\"{date_info}\\n\\n\")\n",
    "                file.write(f\"{law_title}\\n\\n\")\n",
    "                # Thêm phần nội dung của Điều\n",
    "                file.write(section_text)\n",
    "            file_count += 1\n",
    "        else:\n",
    "            # Nếu nội dung vượt quá kích thước tối đa, chia nhỏ và ghi vào nhiều file\n",
    "            chunks = split_text_into_chunks(section_text, chunk_size=1024)\n",
    "            for j, chunk in enumerate(chunks):\n",
    "                output_file = os.path.join(output_folder, f\"Dieu_{i+1}_{j+1}.txt\")\n",
    "                with open(output_file, 'w', encoding='utf-8') as file:\n",
    "                    # Thêm thông tin vào đầu file\n",
    "                    if j > 0:  # Chỉ bổ sung thông tin \"Điều\" vào file thứ 2 trở đi\n",
    "                        file.write(f\"{law_number}\\n\")\n",
    "                        file.write(f\"{date_info}\\n\\n\")\n",
    "                        file.write(f\"{law_title}\\n\\n\")\n",
    "                        file.write(f\"{condition}\\n\")\n",
    "                    else:  # File đầu tiên không cần bổ sung thông tin \"Điều\"\n",
    "                        file.write(f\"{law_number}\\n\")\n",
    "                        file.write(f\"{date_info}\\n\\n\")\n",
    "                        file.write(f\"{law_title}\\n\\n\")\n",
    "                    # Thêm phần nội dung của Điều\n",
    "                    file.write(chunk)\n",
    "                \n",
    "                file_count += 1\n",
    "    \n",
    "    print(f\"Đã tách file {input_file} thành {file_count} phần trong thư mục {output_folder}.\")\n"
   ]
  },
  {
   "cell_type": "markdown",
   "metadata": {},
   "source": [
    "TÁCH THEO DOC"
   ]
  },
  {
   "cell_type": "code",
   "execution_count": 12,
   "metadata": {},
   "outputs": [],
   "source": [
    "import os\n",
    "import pythoncom\n",
    "from win32com.client import Dispatch\n",
    "import re\n",
    "\n",
    "def clean_text(text):\n",
    "    # Loại bỏ các ký tự đặc biệt như ô trống hoặc các ký tự không mong muốn\n",
    "    return re.sub(r'[\\x00-\\x1F\\x7F]', '', text).strip()\n",
    "\n",
    "def split_text_into_chunks(text, chunk_size=1024):\n",
    "    # Tách văn bản thành các đoạn nhỏ hơn với kích thước không vượt quá chunk_size\n",
    "    chunks = []\n",
    "    while len(text) > chunk_size:\n",
    "        # Tìm điểm chia tách gần nhất, ưu tiên chia tại dấu phân cách 'Điều'\n",
    "        split_point = max(text.rfind('Điều', 0, chunk_size), text.rfind(' ', 0, chunk_size))\n",
    "        if split_point == -1:\n",
    "            split_point = chunk_size\n",
    "        chunks.append(text[:split_point].strip())\n",
    "        text = text[split_point:].strip()\n",
    "    chunks.append(text)\n",
    "    return chunks\n",
    "\n",
    "def split_doc_by_rules_with_header(input_file, output_folder):\n",
    "    # Tạo thư mục đích nếu chưa tồn tại\n",
    "    os.makedirs(output_folder, exist_ok=True)\n",
    "    \n",
    "    # Khởi tạo COM object để tương tác với Microsoft Word\n",
    "    pythoncom.CoInitialize()\n",
    "    word = Dispatch(\"Word.Application\")\n",
    "    doc = word.Documents.Open(input_file)\n",
    "    \n",
    "    # Đọc toàn bộ nội dung của file\n",
    "    full_text = [clean_text(para.Range.Text) for para in doc.Paragraphs if clean_text(para.Range.Text) != '']\n",
    "    \n",
    "    # Đóng file và Word application\n",
    "    doc.Close(False)  # Không lưu thay đổi\n",
    "    word.Quit()\n",
    "    \n",
    "    # Lấy thông tin về \"Luật số\", \"Ngày ban hành\", và \"Tên bộ luật\"\n",
    "    law_number = \"\"\n",
    "    date_info = \"\"\n",
    "    law_title = \"\"\n",
    "    \n",
    "    for paragraph in full_text:\n",
    "        if \"Luật số\" in paragraph:\n",
    "            law_number = paragraph\n",
    "        elif \"ngày\" in paragraph and \"tháng\" in paragraph and \"năm\" in paragraph:\n",
    "            date_info = paragraph\n",
    "        elif paragraph.isupper():  # Giả định rằng tiêu đề luật là viết hoa toàn bộ\n",
    "            law_title = paragraph\n",
    "            break\n",
    "    \n",
    "    # Tách văn bản thành các đoạn theo từ khóa \"Điều\"\n",
    "    dieu_sections = []\n",
    "    current_section = []\n",
    "    current_condition = \"\"\n",
    "    \n",
    "    for paragraph in full_text:\n",
    "        if paragraph.startswith(\"Điều\"):\n",
    "            if current_section:\n",
    "                dieu_sections.append((current_condition, \"\\n\".join(current_section)))\n",
    "                current_section = []\n",
    "            current_condition = paragraph\n",
    "        current_section.append(paragraph)\n",
    "    if current_section:\n",
    "        dieu_sections.append((current_condition, \"\\n\".join(current_section)))\n",
    "    \n",
    "    # Xử lý và ghi từng phần vào các file riêng biệt với thông tin bổ sung\n",
    "    file_count = 0\n",
    "    for i, (condition, section_text) in enumerate(dieu_sections):\n",
    "        # Nếu nội dung không vượt quá kích thước tối đa, không cần chia nhỏ\n",
    "        if len(section_text) <= 1024:\n",
    "            output_file = os.path.join(output_folder, f\"Dieu_{i+1}.txt\")\n",
    "            with open(output_file, 'w', encoding='utf-8') as file:\n",
    "                # Thêm thông tin vào đầu file\n",
    "                file.write(f\"{law_number}\\n\")\n",
    "                file.write(f\"{date_info}\\n\\n\")\n",
    "                file.write(f\"{law_title}\\n\\n\")\n",
    "                # Thêm phần nội dung của Điều\n",
    "                file.write(section_text)\n",
    "            file_count += 1\n",
    "        else:\n",
    "            # Nếu nội dung vượt quá kích thước tối đa, chia nhỏ và ghi vào nhiều file\n",
    "            chunks = split_text_into_chunks(section_text, chunk_size=1024)\n",
    "            for j, chunk in enumerate(chunks):\n",
    "                output_file = os.path.join(output_folder, f\"Dieu_{i+1}_{j+1}.txt\")\n",
    "                with open(output_file, 'w', encoding='utf-8') as file:\n",
    "                    # Thêm thông tin vào đầu file\n",
    "                    if j > 0:  # Chỉ bổ sung thông tin \"Điều\" vào file thứ 2 trở đi\n",
    "                        file.write(f\"{law_number}\\n\")\n",
    "                        file.write(f\"{date_info}\\n\\n\")\n",
    "                        file.write(f\"{law_title}\\n\\n\")\n",
    "                        file.write(f\"{condition}\\n\")\n",
    "                    else:  # File đầu tiên không cần bổ sung thông tin \"Điều\"\n",
    "                        file.write(f\"{law_number}\\n\")\n",
    "                        file.write(f\"{date_info}\\n\\n\")\n",
    "                        file.write(f\"{law_title}\\n\\n\")\n",
    "                    # Thêm phần nội dung của Điều\n",
    "                    file.write(chunk)\n",
    "                \n",
    "                file_count += 1\n",
    "    \n",
    "    print(f\"Đã tách file {input_file} thành {file_count} phần trong thư mục {output_folder}.\")\n"
   ]
  },
  {
   "cell_type": "markdown",
   "metadata": {},
   "source": [
    "TÁCH THEO DOCX"
   ]
  },
  {
   "cell_type": "code",
   "execution_count": 54,
   "metadata": {},
   "outputs": [],
   "source": [
    "import os\n",
    "import re\n",
    "from docx import Document\n",
    "\n",
    "def clean_text(text):\n",
    "    # Loại bỏ các ký tự đặc biệt như ô trống hoặc các ký tự không mong muốn\n",
    "    return re.sub(r'[\\x00-\\x1F\\x7F]', '', text).strip()\n",
    "\n",
    "def split_text_into_chunks(text, chunk_size=1024):\n",
    "    # Tách văn bản thành các đoạn nhỏ hơn với kích thước không vượt quá chunk_size\n",
    "    chunks = []\n",
    "    while len(text) > chunk_size:\n",
    "        # Tìm điểm chia tách gần nhất, ưu tiên chia tại dấu phân cách 'Điều'\n",
    "        split_point = max(text.rfind('Điều', 0, chunk_size), text.rfind(' ', 0, chunk_size))\n",
    "        if split_point == -1:\n",
    "            split_point = chunk_size\n",
    "        chunks.append(text[:split_point].strip())\n",
    "        text = text[split_point:].strip()\n",
    "    chunks.append(text)\n",
    "    return chunks\n",
    "\n",
    "def split_docx_by_rules_with_header(input_file, output_folder):\n",
    "    # Tạo thư mục đích nếu chưa tồn tại\n",
    "    os.makedirs(output_folder, exist_ok=True)\n",
    "    \n",
    "    # Đọc toàn bộ nội dung của file .docx\n",
    "    doc = Document(input_file)\n",
    "    full_text = [clean_text(paragraph.text) for paragraph in doc.paragraphs if clean_text(paragraph.text) != '']\n",
    "    \n",
    "    # Lấy thông tin về \"Luật số\", \"Ngày ban hành\", và \"Tên bộ luật\"\n",
    "    law_number = \"\"\n",
    "    date_info = \"\"\n",
    "    law_title = \"\"\n",
    "    \n",
    "    for paragraph in full_text:\n",
    "        if \"Luật số\" in paragraph:\n",
    "            law_number = paragraph\n",
    "        elif \"ngày\" in paragraph and \"tháng\" in paragraph and \"năm\" in paragraph:\n",
    "            date_info = paragraph\n",
    "        elif paragraph.isupper():  # Giả định rằng tiêu đề luật là viết hoa toàn bộ\n",
    "            law_title = paragraph\n",
    "            break\n",
    "    \n",
    "    # Tách văn bản thành các đoạn theo từ khóa \"Điều\"\n",
    "    dieu_sections = []\n",
    "    current_section = []\n",
    "    current_condition = \"\"\n",
    "    \n",
    "    for paragraph in full_text:\n",
    "        if paragraph.startswith(\"Điều\"):\n",
    "            if current_section:\n",
    "                dieu_sections.append((current_condition, \"\\n\".join(current_section)))\n",
    "                current_section = []\n",
    "            current_condition = paragraph\n",
    "        current_section.append(paragraph)\n",
    "    if current_section:\n",
    "        dieu_sections.append((current_condition, \"\\n\".join(current_section)))\n",
    "    \n",
    "    # Xử lý và ghi từng phần vào các file riêng biệt với thông tin bổ sung\n",
    "    file_count = 0\n",
    "    for i, (condition, section_text) in enumerate(dieu_sections):\n",
    "        # Nếu nội dung không vượt quá kích thước tối đa, không cần chia nhỏ\n",
    "        if len(section_text) <= 1024:\n",
    "            output_file = os.path.join(output_folder, f\"Dieu_{i+1}.txt\")\n",
    "            with open(output_file, 'w', encoding='utf-8') as file:\n",
    "                # Thêm thông tin vào đầu file\n",
    "                file.write(f\"{law_number}\\n\")\n",
    "                file.write(f\"{date_info}\\n\\n\")\n",
    "                file.write(f\"{law_title}\\n\\n\")\n",
    "                # Thêm phần nội dung của Điều\n",
    "                file.write(section_text)\n",
    "            file_count += 1\n",
    "        else:\n",
    "            # Nếu nội dung vượt quá kích thước tối đa, chia nhỏ và ghi vào nhiều file\n",
    "            chunks = split_text_into_chunks(section_text, chunk_size=1024)\n",
    "            for j, chunk in enumerate(chunks):\n",
    "                output_file = os.path.join(output_folder, f\"Dieu_{i+1}_{j+1}.txt\")\n",
    "                with open(output_file, 'w', encoding='utf-8') as file:\n",
    "                    # Thêm thông tin vào đầu file\n",
    "                    if j > 0:  # Chỉ bổ sung thông tin \"Điều\" vào file thứ 2 trở đi\n",
    "                        file.write(f\"{law_number}\\n\")\n",
    "                        file.write(f\"{date_info}\\n\\n\")\n",
    "                        file.write(f\"{law_title}\\n\\n\")\n",
    "                        file.write(f\"{condition}\\n\")\n",
    "                    else:  # File đầu tiên không cần bổ sung thông tin \"Điều\"\n",
    "                        file.write(f\"{law_number}\\n\")\n",
    "                        file.write(f\"{date_info}\\n\\n\")\n",
    "                        file.write(f\"{law_title}\\n\\n\")\n",
    "                    # Thêm phần nội dung của Điều\n",
    "                    file.write(chunk)\n",
    "                \n",
    "                \n",
    "                file_count += 1\n",
    "    \n",
    "    print(f\"Đã tách file {input_file} thành {file_count} phần trong thư mục {output_folder}.\")\n",
    "\n"
   ]
  },
  {
   "cell_type": "markdown",
   "metadata": {},
   "source": [
    "DAU THÂU"
   ]
  },
  {
   "cell_type": "code",
   "execution_count": 13,
   "metadata": {},
   "outputs": [
    {
     "name": "stdout",
     "output_type": "stream",
     "text": [
      "Đã tách file D:\\Private\\DATA\\data_crawl\\dau_thau\\dau_thau.doc thành 216 phần trong thư mục D:\\Private\\DATA\\new_data\\dau_thau.\n"
     ]
    }
   ],
   "source": [
    "input_file = 'D:\\\\Private\\\\DATA\\\\data_crawl\\\\dau_thau\\\\dau_thau.doc'\n",
    "output_folder = 'D:\\\\Private\\\\DATA\\\\new_data\\\\dau_thau'\n",
    "\n",
    "split_doc_by_rules_with_header(input_file, output_folder)"
   ]
  },
  {
   "cell_type": "markdown",
   "metadata": {},
   "source": [
    "BO LUAT LAO DONG"
   ]
  },
  {
   "cell_type": "code",
   "execution_count": 37,
   "metadata": {},
   "outputs": [
    {
     "name": "stdout",
     "output_type": "stream",
     "text": [
      "Đã tách file D:\\Private\\DATA\\data_crawl\\lao_dong\\luat_lao_dong.docx thành 302 phần trong thư mục D:\\Private\\DATA\\new_data\\lao_dong.\n"
     ]
    }
   ],
   "source": [
    "input_file = 'D:\\\\Private\\\\DATA\\\\data_crawl\\\\lao_dong\\\\luat_lao_dong.docx'\n",
    "output_folder = 'D:\\\\Private\\\\DATA\\\\new_data\\\\lao_dong'\n",
    "\n",
    "split_docx_by_rules_with_header(input_file, output_folder)"
   ]
  },
  {
   "cell_type": "markdown",
   "metadata": {},
   "source": [
    "TO TUNG HINH SU"
   ]
  },
  {
   "cell_type": "code",
   "execution_count": 64,
   "metadata": {},
   "outputs": [
    {
     "name": "stdout",
     "output_type": "stream",
     "text": [
      "Đã tách file D:\\Private\\DATA\\data_crawl\\bo_luat_to_tung_hinh_su\\to_tung_hinh_su.doc thành 755 phần trong thư mục D:\\Private\\DATA\\new_data\\bo_luat_to_tung_hinh_su.\n"
     ]
    }
   ],
   "source": [
    "input_file = 'D:\\\\Private\\\\DATA\\\\data_crawl\\\\bo_luat_to_tung_hinh_su\\\\to_tung_hinh_su.doc'\n",
    "output_folder = 'D:\\\\Private\\\\DATA\\\\new_data\\\\bo_luat_to_tung_hinh_su'\n",
    "\n",
    "split_doc_by_rules_with_header(input_file, output_folder)"
   ]
  },
  {
   "cell_type": "markdown",
   "metadata": {},
   "source": [
    "Bo luat hang hai"
   ]
  },
  {
   "cell_type": "code",
   "execution_count": 48,
   "metadata": {},
   "outputs": [
    {
     "name": "stdout",
     "output_type": "stream",
     "text": [
      "Đã tách file D:\\Private\\DATA\\data_crawl\\bo_luat_hang_hai\\hang_hai.doc thành 440 phần trong thư mục D:\\Private\\DATA\\new_data\\bo_luat_hang_hai.\n"
     ]
    }
   ],
   "source": [
    "input_file = 'D:\\\\Private\\\\DATA\\\\data_crawl\\\\bo_luat_hang_hai\\\\hang_hai.doc'\n",
    "output_folder = 'D:\\\\Private\\\\DATA\\\\new_data\\\\bo_luat_hang_hai'\n",
    "\n",
    "split_doc_by_rules_with_header(input_file, output_folder)"
   ]
  },
  {
   "cell_type": "markdown",
   "metadata": {},
   "source": [
    "Bo luat hinh su\n"
   ]
  },
  {
   "cell_type": "code",
   "execution_count": 47,
   "metadata": {},
   "outputs": [
    {
     "name": "stdout",
     "output_type": "stream",
     "text": [
      "Đã tách file D:\\Private\\DATA\\data_crawl\\bo_luat_hinh_su\\hinh_su.doc thành 746 phần trong thư mục D:\\Private\\DATA\\new_data\\bo_luat_hinh_su.\n"
     ]
    }
   ],
   "source": [
    "input_file = 'D:\\\\Private\\\\DATA\\\\data_crawl\\\\bo_luat_hinh_su\\\\hinh_su.doc'\n",
    "output_folder = 'D:\\\\Private\\\\DATA\\\\new_data\\\\bo_luat_hinh_su'\n",
    "\n",
    "split_doc_by_rules_with_header(input_file, output_folder)"
   ]
  },
  {
   "cell_type": "markdown",
   "metadata": {},
   "source": [
    "Bo luat to tung dan su"
   ]
  },
  {
   "cell_type": "code",
   "execution_count": 66,
   "metadata": {},
   "outputs": [],
   "source": [
    "input_file = 'D:\\\\Private\\\\DATA\\\\data_crawl\\\\bo_luat_to_tung_dan_su\\\\to_tung_dan_su.doc'\n",
    "output_folder = 'D:\\\\Private\\\\DATA\\\\new_data\\\\bo_luat_to_tung_dan_su'\n",
    "\n",
    "split_doc_by_rules_with_header(input_file, output_folder)"
   ]
  },
  {
   "cell_type": "markdown",
   "metadata": {},
   "source": [
    "Bo Luat Dan su\n"
   ]
  },
  {
   "cell_type": "code",
   "execution_count": 65,
   "metadata": {},
   "outputs": [
    {
     "name": "stdout",
     "output_type": "stream",
     "text": [
      "Đã tách file D:\\Private\\DATA\\data_crawl\\bo_luat_dan_su\\dan_su_text\\bo_luat_dan_su.txt thành 413 phần trong thư mục D:\\Private\\DATA\\new_data\\bo_luat_to_tung_dan_su.\n"
     ]
    }
   ],
   "source": [
    "input_file = 'D:\\\\Private\\\\DATA\\\\data_crawl\\\\bo_luat_dan_su\\\\dan_su_text\\\\bo_luat_dan_su.txt'\n",
    "output_folder = 'D:\\\\Private\\\\DATA\\\\new_data\\\\bo_luat_dan_su'\n",
    "\n",
    "split_txt_by_rules_with_header(input_file, output_folder)"
   ]
  },
  {
   "cell_type": "code",
   "execution_count": null,
   "metadata": {},
   "outputs": [],
   "source": []
  }
 ],
 "metadata": {
  "kernelspec": {
   "display_name": "Python 3",
   "language": "python",
   "name": "python3"
  },
  "language_info": {
   "codemirror_mode": {
    "name": "ipython",
    "version": 3
   },
   "file_extension": ".py",
   "mimetype": "text/x-python",
   "name": "python",
   "nbconvert_exporter": "python",
   "pygments_lexer": "ipython3",
   "version": "3.10.0"
  }
 },
 "nbformat": 4,
 "nbformat_minor": 2
}
